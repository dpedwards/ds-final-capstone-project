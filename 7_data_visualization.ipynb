{
 "cells": [
  {
   "cell_type": "markdown",
   "metadata": {},
   "source": [
    "# Data Visualization"
   ]
  },
  {
   "cell_type": "markdown",
   "metadata": {},
   "source": [
    "## Import Libraries"
   ]
  },
  {
   "cell_type": "code",
   "execution_count": null,
   "metadata": {},
   "outputs": [],
   "source": [
    "import pandas as pd\n",
    "import numpy as np\n",
    "import matplotlib.pyplot as plt\n",
    "import seaborn as sns\n",
    "from plotly.subplots import make_subplots\n",
    "import plotly.graph_objects as go\n",
    "from plotly.offline import download_plotlyjs, init_notebook_mode, plot, iplot\n",
    "pd.set_option(\"display.max_columns\", 120)\n",
    "import plotly.offline as py\n",
    "%matplotlib inline"
   ]
  },
  {
   "cell_type": "markdown",
   "metadata": {},
   "source": [
    "## Import Datasets"
   ]
  },
  {
   "cell_type": "code",
   "execution_count": null,
   "metadata": {},
   "outputs": [],
   "source": [
    "dataset = pd.read_csv('data/cleaned_train_v2.csv')"
   ]
  },
  {
   "cell_type": "markdown",
   "metadata": {},
   "source": [
    "## Data Preparation"
   ]
  },
  {
   "cell_type": "code",
   "execution_count": null,
   "metadata": {},
   "outputs": [],
   "source": [
    "# Converting POSIX data from visiStartTime column and replace it in date column\n",
    "dataset['date'] = pd.to_datetime(dataset['visitStartTime'], unit='s').dt.strftime('%Y-%m-%d-%H')"
   ]
  },
  {
   "cell_type": "code",
   "execution_count": null,
   "metadata": {},
   "outputs": [],
   "source": [
    "dataset = dataset.assign(\n",
    "    Date = lambda x: pd.to_datetime(x['date']).dt.date,\n",
    "    Year = lambda x: pd.to_datetime(x['date']).dt.year,\n",
    "    Month = lambda x: pd.to_datetime(x['date']).dt.month,\n",
    "    Day = lambda x: pd.to_datetime(x['date']).dt.day,\n",
    "    hour = lambda x: pd.to_datetime(x['date']).dt.hour\n",
    "\n",
    ")\n",
    "print(f'Start of year: {dataset.Year.min()}')\n",
    "print(f'Start of year: {dataset.Year.max()}')\n",
    "\n",
    "dataset[\"year_month\"] = pd.to_datetime(dataset['visitStartTime'], unit='s').dt.strftime('%Y-%m')"
   ]
  },
  {
   "cell_type": "markdown",
   "metadata": {},
   "source": [
    "# Hypotheses:\n",
    "1. Users who come from \"Origanic search\" are doing more transactions.\n",
    "2. Users who visited the Store more than 3 times made also a transaction.\n",
    "3. Most of the Sessions are from mobile users (change count to sum for amount of transactions).\n",
    "4. Most visits are from USA.\n",
    "5. Most revenues are generate from the USA.\n",
    "6. Users made less transactions in February.\n",
    "7. Sessions through Operating System MacOS tend to have more Revenue."
   ]
  },
  {
   "cell_type": "markdown",
   "metadata": {},
   "source": [
    "## 1. Users who come from \"Origanic search\" are doing more transactions"
   ]
  },
  {
   "cell_type": "code",
   "execution_count": null,
   "metadata": {},
   "outputs": [],
   "source": [
    "df_nonz = dataset[dataset['totals.transactionRevenue']>0].sort_values(by =\"totals.transactionRevenue\", ascending=False)\n",
    "df_z = dataset[dataset['totals.transactionRevenue']==0].sort_values(by =\"totals.transactionRevenue\", ascending=False)"
   ]
  },
  {
   "cell_type": "code",
   "execution_count": null,
   "metadata": {},
   "outputs": [],
   "source": [
    "sns.set(font_scale=1.2)\n",
    "fig, ax = plt.subplots(figsize=(15,8))\n",
    "ax = sns.histplot(data=dataset, x=\"channelGrouping\")"
   ]
  },
  {
   "cell_type": "code",
   "execution_count": null,
   "metadata": {},
   "outputs": [],
   "source": [
    "sns.set(font_scale=1.2)\n",
    "fig, ax = plt.subplots(figsize=(15,8))\n",
    "ax = sns.histplot(data=df_nonz, x=\"channelGrouping\")"
   ]
  },
  {
   "cell_type": "markdown",
   "metadata": {},
   "source": [
    "### Value of transactions per channel"
   ]
  },
  {
   "cell_type": "code",
   "execution_count": null,
   "metadata": {},
   "outputs": [],
   "source": [
    "obj = df_nonz.groupby('channelGrouping')[\"totals.transactionRevenue\"].sum().sort_values(ascending =False).reset_index()"
   ]
  },
  {
   "cell_type": "code",
   "execution_count": null,
   "metadata": {},
   "outputs": [],
   "source": [
    "fig, ax = plt.subplots(figsize=(10,6))\n",
    "ax = sns.barplot(data=obj, x=obj['channelGrouping'].head(10), y=obj['totals.transactionRevenue'].head(10))\n",
    "ax.set(xlabel=\"Channel Grouping\", ylabel = \"Revenue in $\")"
   ]
  },
  {
   "cell_type": "markdown",
   "metadata": {},
   "source": [
    "## 2. Users who visited the Store more than 3 times made also a transaction"
   ]
  },
  {
   "cell_type": "code",
   "execution_count": null,
   "metadata": {},
   "outputs": [],
   "source": [
    "obj = dataset.groupby('visitNumber')[\"totals.transactionRevenue\"].mean().sort_values(ascending =False).reset_index()"
   ]
  },
  {
   "cell_type": "code",
   "execution_count": null,
   "metadata": {},
   "outputs": [],
   "source": [
    "fig, ax = plt.subplots(figsize=(15,8))\n",
    "ax = sns.barplot(data=obj, x=obj['visitNumber'].head(10), y=obj['totals.transactionRevenue'].head(10))"
   ]
  },
  {
   "cell_type": "markdown",
   "metadata": {},
   "source": [
    "## 3. Most of the Sessions are from mobile users \n",
    "(change count to sum for amount of transactions)"
   ]
  },
  {
   "cell_type": "code",
   "execution_count": null,
   "metadata": {},
   "outputs": [],
   "source": [
    "obj = dataset.groupby(['channelGrouping','device.isMobile'])[\"totals.transactionRevenue\"].count().sort_values(ascending =False).reset_index()"
   ]
  },
  {
   "cell_type": "code",
   "execution_count": null,
   "metadata": {},
   "outputs": [],
   "source": [
    "ax = sns.catplot(y=\"totals.transactionRevenue\",x=\"channelGrouping\",kind=\"bar\", hue=\"device.isMobile\",height=8.27, aspect=11.7/8.27,\n",
    "            edgecolor=\".6\", data=obj)\n",
    "ax.set(xlabel=\"Channel Grouping\", ylabel = \"No. of Sessions\")"
   ]
  },
  {
   "cell_type": "markdown",
   "metadata": {},
   "source": [
    "## 4. Most visits are from USA"
   ]
  },
  {
   "cell_type": "code",
   "execution_count": null,
   "metadata": {},
   "outputs": [],
   "source": [
    "tmp = dataset[\"geoNetwork.country\"].value_counts()\n",
    "country_visits = pd.DataFrame(data={'geoNetwork.country': tmp.values}, index=tmp.index).reset_index()\n",
    "country_visits.columns = ['Country', 'Visits']"
   ]
  },
  {
   "cell_type": "code",
   "execution_count": null,
   "metadata": {},
   "outputs": [],
   "source": [
    "def plot_country_map(data, location, z, legend, title, colormap='Viridis'):\n",
    "    data = dict(type = 'choropleth', \n",
    "                colorscale = colormap,\n",
    "                autocolorscale = False,\n",
    "                reversescale = False,\n",
    "               locations = data[location],\n",
    "               locationmode = 'country names',\n",
    "               z = data[z], \n",
    "               text = data[z],\n",
    "               colorbar = {'title':legend})\n",
    "    layout = dict(title = title, \n",
    "                 geo = dict(showframe = False, \n",
    "                         projection = {'type': 'natural earth'}))\n",
    "    choromap = go.Figure(data = [data], layout=layout)\n",
    "    iplot(choromap)"
   ]
  },
  {
   "cell_type": "code",
   "execution_count": null,
   "metadata": {},
   "outputs": [],
   "source": [
    "plot_country_map(country_visits, 'Country', 'Visits', 'Visits', 'Visits per country')"
   ]
  },
  {
   "cell_type": "markdown",
   "metadata": {},
   "source": [
    "## 5. Most revenues are generate from the USA"
   ]
  },
  {
   "cell_type": "code",
   "execution_count": null,
   "metadata": {},
   "outputs": [],
   "source": [
    "# Select the visits with non-zero transaction revenue and calculate the sums\n",
    "tmp = df_nonz.groupby(['geoNetwork.country'])['totals.transactionRevenue'].sum()\n",
    "country_total = pd.DataFrame(data={'total': tmp.values}, index=tmp.index).reset_index()\n",
    "country_total.columns = ['Country', 'Total']\n",
    "country_total['Total']  = np.log1p(country_total['Total'])"
   ]
  },
  {
   "cell_type": "code",
   "execution_count": null,
   "metadata": {},
   "outputs": [],
   "source": [
    "plot_country_map(country_total, 'Country', 'Total', 'Total(log)', 'Total revenues per country (log scale)')"
   ]
  },
  {
   "cell_type": "markdown",
   "metadata": {},
   "source": [
    "## 6. Users made less transactions in February"
   ]
  },
  {
   "cell_type": "code",
   "execution_count": null,
   "metadata": {},
   "outputs": [],
   "source": [
    "tmp = dataset.groupby('Date')['totals.transactionRevenue'].agg(['size'])\n",
    "tmp.columns = [\"Total\"]\n",
    "tmp = tmp.sort_index()"
   ]
  },
  {
   "cell_type": "code",
   "execution_count": null,
   "metadata": {},
   "outputs": [],
   "source": [
    "\n",
    "def plot_scatter_data(data, xtitle, ytitle, title, color='blue'):\n",
    "    trace = go.Scatter(\n",
    "        x = data.index,\n",
    "        y = data.values,\n",
    "        name=ytitle,\n",
    "        marker=dict(\n",
    "            color=color\n",
    "        ),\n",
    "        mode='lines'\n",
    "    )\n",
    "\n",
    "    data = [trace]\n",
    "    layout = dict(title = title,\n",
    "              xaxis = dict(title = xtitle), yaxis = dict(title = ytitle),\n",
    "             )\n",
    "    fig = dict(data=data, layout=layout)\n",
    "    iplot(fig, filename='lines')"
   ]
  },
  {
   "cell_type": "code",
   "execution_count": null,
   "metadata": {},
   "outputs": [],
   "source": [
    "plot_scatter_data(tmp['Total'],'Date','No. of sessions','Sessions including zero transactions','green')"
   ]
  },
  {
   "cell_type": "code",
   "execution_count": null,
   "metadata": {},
   "outputs": [],
   "source": [
    "tmp_nonz = df_nonz.groupby('Date')['totals.transactionRevenue'].agg(['size'])\n",
    "tmp_nonz.columns = [\"Total\"]\n",
    "tmp_nonz = tmp_nonz.sort_index()"
   ]
  },
  {
   "cell_type": "code",
   "execution_count": null,
   "metadata": {},
   "outputs": [],
   "source": [
    "plot_scatter_data(tmp_nonz['Total'],'Date','No. of sessions','Sessions with revenue only','red')"
   ]
  },
  {
   "cell_type": "markdown",
   "metadata": {},
   "source": [
    "### Predicted Transactions"
   ]
  },
  {
   "cell_type": "code",
   "execution_count": null,
   "metadata": {},
   "outputs": [],
   "source": [
    "dataset_pred = pd.read_csv('models/dataset_pred.csv')"
   ]
  },
  {
   "cell_type": "code",
   "execution_count": null,
   "metadata": {},
   "outputs": [],
   "source": [
    "tmp0 = dataset.groupby('Date')['totals.transactionRevenue'].agg(['sum'])\n",
    "tmp0.columns = [\"Total\"]\n",
    "tmp0 = tmp0.sort_index()"
   ]
  },
  {
   "cell_type": "code",
   "execution_count": null,
   "metadata": {},
   "outputs": [],
   "source": [
    "plot_scatter_data(tmp0['Total'],'Date', 'Amountin $','Total Revenue for year 2016-2018','orange')"
   ]
  },
  {
   "cell_type": "code",
   "execution_count": null,
   "metadata": {},
   "outputs": [],
   "source": [
    "def plot_scatter_data_join(data, data2, xtitle, ytitle, title):\n",
    "    trace = go.Scatter(\n",
    "        x = data.index,\n",
    "        y = data.values,\n",
    "        name=ytitle,\n",
    "        marker=dict(\n",
    "            color='maroon'\n",
    "        ),\n",
    "        mode='lines'\n",
    "    )\n",
    "    \n",
    "    trace2 = go.Scatter(\n",
    "        x = data2.index,\n",
    "        y = data2.values,\n",
    "        name='Actual Rev. in $',\n",
    "        marker=dict(\n",
    "            color='rgb(94,163,192)'\n",
    "        ),\n",
    "        mode='lines'\n",
    "    )\n",
    "    \n",
    "\n",
    "  #  data = [trace, trace2]\n",
    "    layout = dict(title = title,\n",
    "              xaxis = dict(title = xtitle), yaxis = dict(title = ytitle)\n",
    "             )\n",
    "    #fig = dict(data=data, layout=layout)\n",
    "\n",
    "\n",
    "\n",
    "\n",
    "    fig = make_subplots(specs=[[{\"secondary_y\": True}]])\n",
    "    fig.add_trace(trace)\n",
    "    fig.add_trace(trace2,secondary_y=True)\n",
    "    fig['layout'].update(height = 400, width = 1150, title = title,xaxis=dict(\n",
    "      tickangle=0\n",
    "        ))\n",
    "    iplot(fig, filename='lines')\n"
   ]
  },
  {
   "cell_type": "code",
   "execution_count": null,
   "metadata": {},
   "outputs": [],
   "source": [
    "tmp1 = dataset_pred.groupby('date')['Label'].agg(['sum'])\n",
    "tmp1.columns = [\"Label\"]\n",
    "tmp1 = tmp1.sort_index()"
   ]
  },
  {
   "cell_type": "code",
   "execution_count": null,
   "metadata": {},
   "outputs": [],
   "source": [
    "tmp2 = dataset_pred.groupby('date')['Target'].agg(['sum'])\n",
    "tmp2.columns = [\"Target\"]\n",
    "tmp2 = tmp2.sort_index()"
   ]
  },
  {
   "cell_type": "code",
   "execution_count": null,
   "metadata": {},
   "outputs": [],
   "source": [
    "plot_scatter_data_join(tmp1['Label'],tmp2['Target'],'date', 'Predicted Rev. in $','Result: Revenue generating sessions from May - Oct 2018')"
   ]
  },
  {
   "cell_type": "code",
   "execution_count": null,
   "metadata": {},
   "outputs": [],
   "source": [
    "### Unlog \n",
    "dataset_pred['Label'] = np.expm1(dataset_pred['Label'])\n",
    "tmp1 = dataset_pred.groupby('date')['Label'].agg(['sum'])\n",
    "tmp1.columns = [\"Label\"]\n",
    "tmp1 = tmp1.sort_index()"
   ]
  },
  {
   "cell_type": "code",
   "execution_count": null,
   "metadata": {},
   "outputs": [],
   "source": [
    "plot_scatter_data_join(tmp1['Label'],tmp0['Total'],'date', 'Predicted Rev. in $','Revenue generating sessions from Aug 2016 - Oct 2018')"
   ]
  },
  {
   "cell_type": "markdown",
   "metadata": {},
   "source": [
    "### Total hits binned (Change to visitnumber instead of hits)"
   ]
  },
  {
   "cell_type": "code",
   "execution_count": null,
   "metadata": {},
   "outputs": [],
   "source": [
    "bins = [0, 50, 100, 150, 200, 250, 300, 350, 400]\n",
    "labels = [\"0-50\",\"51-100\",\"101-150\",\"151-200\",\"201-250\",\"251-300\",\"301-350\",\"351-400\"]\n",
    "dataset['binned'] = pd.cut(dataset['visitNumber'], bins=bins, labels=labels)"
   ]
  },
  {
   "cell_type": "code",
   "execution_count": null,
   "metadata": {},
   "outputs": [],
   "source": [
    "obj = dataset.groupby('binned')[\"totals.transactionRevenue\"].mean().sort_values(ascending =False).reset_index()\n",
    "#obj.head(20)"
   ]
  },
  {
   "cell_type": "code",
   "execution_count": null,
   "metadata": {},
   "outputs": [],
   "source": [
    "fig, ax = plt.subplots(figsize=(10,6))\n",
    "ax = sns.barplot(data=obj, x=obj['binned'].head(20), y=obj['totals.transactionRevenue'])\n",
    "ax.set(xlabel=\"Visits grouped\", ylabel = \"Revenue in $\")"
   ]
  },
  {
   "cell_type": "code",
   "execution_count": null,
   "metadata": {},
   "outputs": [],
   "source": [
    "gdf = dataset.groupby(\"fullVisitorId\")[\"totals.transactionRevenue\"].sum().reset_index()\n",
    "nrc = gdf[gdf['totals.transactionRevenue']==0]\n",
    "rc = gdf[gdf['totals.transactionRevenue']>0]\n",
    "print(\"The number of nonrevenue customers are \", len(nrc))\n",
    "print(\"The number of revenue generating customers are \", len(rc))\n",
    "print(\"the ratio of revenue generating customers are {0:0.4}%\".format(len(rc)/len(gdf)*100))"
   ]
  },
  {
   "cell_type": "code",
   "execution_count": null,
   "metadata": {},
   "outputs": [],
   "source": [
    "labels = ['Non revenue generating customers','revenue generating customers']\n",
    "values = [1307589,16141]\n",
    "plt.axis(\"equal\")\n",
    "plt.pie(values, labels=labels, radius=1.5, autopct=\"%0.2f%%\",shadow=True, explode=[0,0.8], colors=['lightskyblue','lightcoral'])\n",
    "plt.show()"
   ]
  },
  {
   "cell_type": "markdown",
   "metadata": {},
   "source": [
    "## Country Distribution"
   ]
  },
  {
   "cell_type": "code",
   "execution_count": null,
   "metadata": {},
   "outputs": [],
   "source": [
    "country_series = dataset[\"geoNetwork.country\"].value_counts().head(25)\n",
    "country_count = country_series.shape[0]\n",
    "print(\"Total No. Of Countries: \", country_count)\n",
    "country_series = country_series.head(25)\n",
    "\n",
    "trace = go.Bar(\n",
    "    x=country_series.index,\n",
    "    y=country_series.values,\n",
    "    marker=dict(\n",
    "        color=country_series.values,\n",
    "        showscale=True\n",
    "    ),\n",
    ")\n",
    "layout = go.Layout(title=\"Countrywise Observation Count\")\n",
    "data = [trace]\n",
    "fig = go.Figure(data=data, layout=layout)\n",
    "py.iplot(fig, filename=\"country\")"
   ]
  },
  {
   "cell_type": "markdown",
   "metadata": {},
   "source": [
    "- 50% of the observerations are registered from Americas\n",
    "- 360K Observations are from USA alone.\n",
    "- Note, China is not there. Google is baned in China\n",
    "- Following USA, its India, Is it because of the population"
   ]
  },
  {
   "cell_type": "markdown",
   "metadata": {},
   "source": [
    "## Plotly/Dash"
   ]
  },
  {
   "cell_type": "code",
   "execution_count": null,
   "metadata": {},
   "outputs": [],
   "source": [
    "from plotly import tools\n",
    "import plotly.offline as py\n",
    "py.init_notebook_mode(connected=True)\n",
    "import plotly.graph_objs as go\n",
    "import plotly.figure_factory as ff"
   ]
  },
  {
   "cell_type": "markdown",
   "metadata": {},
   "source": [
    "### Sessions from revenue sessions and non-revenue sessions wrt Time"
   ]
  },
  {
   "cell_type": "code",
   "execution_count": null,
   "metadata": {},
   "outputs": [],
   "source": [
    "trace = [\n",
    "    go.Histogram(x=dataset['hour'],\n",
    "                opacity = 0.7,\n",
    "                 name=\"Total Sessions\",\n",
    "                 hoverinfo=\"y\",\n",
    "                 marker=dict(line=dict(width=1.6),\n",
    "                            color='grey')\n",
    "                ),\n",
    "    \n",
    "    go.Histogram(x=df_nonz[df_nonz['totals.transactionRevenue'].notnull()]['hour'],\n",
    "                 visible=False,\n",
    "                 opacity = 0.7,\n",
    "                 name = \"Non-zero revenue Sessions\",\n",
    "                 hoverinfo=\"y\",\n",
    "                 marker=dict(line=dict(width=1.6),\n",
    "                            color='green')\n",
    "                ),\n",
    "    \n",
    "    go.Histogram(x=df_z[df_z['totals.transactionRevenue'].notnull()]['hour'],\n",
    "                 visible=False,\n",
    "                opacity = 0.7,\n",
    "                 name = \"Zero revenue Sessions\",\n",
    "                 hoverinfo=\"y\",\n",
    "                 marker=dict(line=dict(width=1.6),\n",
    "                            color='orange')         \n",
    "                )\n",
    "]\n",
    "\n",
    "layout = go.Layout(title='Sessioning hours',\n",
    "    paper_bgcolor = 'rgb(240, 240, 240)',\n",
    "     plot_bgcolor = 'rgb(240, 240, 240)',\n",
    "    autosize=True, xaxis=dict(tickmode=\"linear\", title=\"Hour of the Day for the year 2017-2018\"),\n",
    "                   yaxis=dict(title=\"No. of Sessions\",\n",
    "                             titlefont=dict(size=17)),\n",
    "                  )\n",
    "\n",
    "updatemenus = list([\n",
    "    dict(\n",
    "    buttons=list([\n",
    "        dict(\n",
    "            args = [{'visible': [True, False, False]}],\n",
    "            label=\"Total Sessions\",\n",
    "            method='update',\n",
    "        ),\n",
    "        dict(\n",
    "            args = [{'visible': [False, True, False]}],\n",
    "            label=\"Non-zero revenue Sessions\",\n",
    "            method='update',\n",
    "        ),\n",
    "        dict(\n",
    "            args = [{'visible': [False, False, True]}],\n",
    "            label=\"Zero revenue Sessions\",\n",
    "            method='update',\n",
    "        ),\n",
    "        \n",
    "    ]),\n",
    "        direction=\"down\",\n",
    "        pad = {'r':10, \"t\":10},\n",
    "        x=0.1,\n",
    "        y=1.25,\n",
    "        yanchor='top',\n",
    "    )\n",
    "])\n",
    "layout['updatemenus'] = updatemenus\n",
    "\n",
    "fig = dict(data=trace, layout=layout)\n",
    "fig = py.iplot(fig)\n",
    "fig"
   ]
  },
  {
   "cell_type": "markdown",
   "metadata": {},
   "source": [
    "## 7. Sessions through Operating System MacOS tend to have more Revenue."
   ]
  },
  {
   "cell_type": "code",
   "execution_count": null,
   "metadata": {},
   "outputs": [],
   "source": [
    "\n",
    "df_nonz['day_frame'] = 0\n",
    "df_nonz['day_frame'] = np.where((df_nonz[\"hour\"]>=0) & (df_nonz[\"hour\"]<4), 'overnight', \n",
    "                           df_nonz['day_frame'])\n",
    "df_nonz['day_frame'] = np.where((df_nonz[\"hour\"]>=4) & (df_nonz[\"hour\"]<8), 'dawn', \n",
    "                           df_nonz['day_frame'])\n",
    "df_nonz['day_frame'] = np.where((df_nonz[\"hour\"]>=8) & (df_nonz[\"hour\"]<12), 'morning', \n",
    "                           df_nonz['day_frame'])\n",
    "df_nonz['day_frame'] = np.where((df_nonz[\"hour\"]>=12) & (df_nonz[\"hour\"]<14), 'lunch', \n",
    "                           df_nonz['day_frame'])\n",
    "df_nonz['day_frame'] = np.where((df_nonz[\"hour\"]>=14) & (df_nonz[\"hour\"]<18), 'afternoon', \n",
    "                           df_nonz['day_frame'])\n",
    "df_nonz['day_frame'] = np.where((df_nonz[\"hour\"]>=18) & (df_nonz[\"hour\"]<21), 'evening', \n",
    "                           df_nonz['day_frame'])\n",
    "df_nonz['day_frame'] = np.where((df_nonz[\"hour\"]>=21) & (df_nonz[\"hour\"]<24), 'night', \n",
    "                           df_nonz['day_frame'])"
   ]
  },
  {
   "cell_type": "code",
   "execution_count": null,
   "metadata": {},
   "outputs": [],
   "source": [
    "fv = df_nonz.pivot_table(index=\"device.operatingSystem\",columns=\"day_frame\",\n",
    "                    values=\"totals.transactionRevenue\",aggfunc=lambda x:x.sum())\n",
    "fv = fv[['morning', 'lunch', 'afternoon', 'evening','night','overnight', 'dawn']]\n",
    "fv = fv.sort_values(by='morning', ascending=False)[:6]\n",
    "\n",
    "trace = go.Heatmap(z=[fv.values[0],fv.values[1],fv.values[2],fv.values[3],\n",
    "                      fv.values[4],fv.values[5]],\n",
    "                   x=['morning', 'lunch', 'afternoon', 'evening', 'night',\n",
    "                      'overnight','dawn'],\n",
    "                   y=fv.index.values, colorscale='Purples', reversescale = False\n",
    "                  )\n",
    "\n",
    "data=[trace]\n",
    "layout = go.Layout(\n",
    "    title='Total Revenue by Device OS<br>(parts of the day)')\n",
    "\n",
    "fig = go.Figure(data=data, layout=layout)\n",
    "py.iplot(fig)"
   ]
  },
  {
   "cell_type": "markdown",
   "metadata": {},
   "source": [
    "## Total sessions, non-zero revenue count and Revenue counts from operating systems "
   ]
  },
  {
   "cell_type": "code",
   "execution_count": null,
   "metadata": {},
   "outputs": [],
   "source": [
    "color = ['tomato',  'bisque','lightgreen', 'gold', 'tan', 'lightgrey', 'cyan']\n",
    "\n",
    "def PieChart(column, title, limit):\n",
    "    revenue = \"totals.transactionRevenue\"\n",
    "    count_trace = dataset.groupby(column)[revenue].size().nlargest(limit).reset_index()\n",
    "    non_zero_trace = df_nonz.groupby(column)[revenue].count().nlargest(limit).reset_index()\n",
    "    rev_trace = df_nonz.groupby(column)[revenue].sum().nlargest(limit).reset_index()    \n",
    "\n",
    "    trace1 = go.Pie(labels=count_trace[column], \n",
    "                    values=count_trace[revenue], \n",
    "                    name= \"Sessions\", \n",
    "                    hole= .5, textfont=dict(size=10),\n",
    "                    domain= {'x': [0, .32]},\n",
    "                   marker=dict(colors=color))\n",
    "\n",
    "    trace2 = go.Pie(labels=non_zero_trace[column], \n",
    "                    values=non_zero_trace[revenue], \n",
    "                    name=\"Revenue\", \n",
    "                    hole= .5,  textfont=dict(size=10),\n",
    "                    domain= {'x': [.34, .66]})\n",
    "    \n",
    "    trace3 = go.Pie(labels=rev_trace[column], \n",
    "                    values=rev_trace[revenue], \n",
    "                    name=\"Revenue\", \n",
    "                    hole= .5,  textfont=dict(size=10),\n",
    "                    domain= {'x': [.68, 1]})\n",
    "\n",
    "    layout = dict(title= title, font=dict(size=15), legend=dict(orientation=\"h\"),\n",
    "                  annotations = [\n",
    "                      dict(\n",
    "                          x=.10, y=.5,\n",
    "                          text='<b>Total <br>Sessions', \n",
    "                          showarrow=False,\n",
    "                          font=dict(size=12)\n",
    "                      ),\n",
    "                      dict(\n",
    "                          x=.50, y=.5,\n",
    "                          text='<b>Non-zero <br>Sessions<br>', \n",
    "                          showarrow=False,\n",
    "                          font=dict(size=12)\n",
    "                      ),\n",
    "                      dict(\n",
    "                          x=.88, y=.5,\n",
    "                          text='<b>Total<br>Revenue', \n",
    "                          showarrow=False,\n",
    "                          font=dict(size=12)\n",
    "                      )\n",
    "        ])\n",
    "    \n",
    "    fig = dict(data=[trace1, trace2,trace3], layout=layout)\n",
    "    py.iplot(fig)"
   ]
  },
  {
   "cell_type": "code",
   "execution_count": null,
   "metadata": {},
   "outputs": [],
   "source": [
    "PieChart(\"device.operatingSystem\", \"Operating System\", 4)"
   ]
  }
 ],
 "metadata": {
  "kernelspec": {
   "display_name": "Python 3.8.5 64-bit",
   "name": "python385jvsc74a57bd0402135d49870b961f74d796f924ad426c34ba2a9a18d44bdd08100ee6884e7b2"
  },
  "language_info": {
   "codemirror_mode": {
    "name": "ipython",
    "version": 3
   },
   "file_extension": ".py",
   "mimetype": "text/x-python",
   "name": "python",
   "nbconvert_exporter": "python",
   "pygments_lexer": "ipython3",
   "version": "3.8.5"
  }
 },
 "nbformat": 4,
 "nbformat_minor": 4
}
