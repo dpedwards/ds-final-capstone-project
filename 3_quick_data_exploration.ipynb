{
 "cells": [
  {
   "cell_type": "markdown",
   "metadata": {},
   "source": [
    "# Quick Data Exploration"
   ]
  },
  {
   "cell_type": "markdown",
   "metadata": {},
   "source": [
    "## Import Libraries"
   ]
  },
  {
   "cell_type": "code",
   "execution_count": null,
   "metadata": {},
   "outputs": [],
   "source": [
    "from pandas_profiling import ProfileReport\n",
    "import pandas as pd\n",
    "from scripts.helper import reduce_mem_usage\n",
    "import seaborn as sns\n",
    "import matplotlib.pyplot as plt\n",
    "pd.set_option(\"display.max_columns\", 120)"
   ]
  },
  {
   "cell_type": "markdown",
   "metadata": {},
   "source": [
    "## Import Datasets"
   ]
  },
  {
   "cell_type": "code",
   "execution_count": null,
   "metadata": {},
   "outputs": [],
   "source": [
    "dataset = pd.read_csv('data/shrunk_train_v2.csv')"
   ]
  },
  {
   "cell_type": "code",
   "execution_count": null,
   "metadata": {},
   "outputs": [],
   "source": [
    "dataset_test = pd.read_csv('data/shrunk_test_v2.csv')"
   ]
  },
  {
   "cell_type": "code",
   "execution_count": null,
   "metadata": {},
   "outputs": [],
   "source": [
    "# Recude train dataset size by changing the datatypes\n",
    "dataset, NAlist = reduce_mem_usage(dataset)"
   ]
  },
  {
   "cell_type": "code",
   "execution_count": null,
   "metadata": {},
   "outputs": [],
   "source": [
    "# Recude train dataset size by changing the datatypes\n",
    "dataset_test, NAlist_test = reduce_mem_usage(dataset_test)"
   ]
  },
  {
   "cell_type": "code",
   "execution_count": null,
   "metadata": {},
   "outputs": [],
   "source": [
    "print(\"Number of common visitors in train and test set : \",len(set(dataset.fullVisitorId.unique()).intersection(set(dataset_test.fullVisitorId.unique())) ))"
   ]
  },
  {
   "cell_type": "code",
   "execution_count": null,
   "metadata": {},
   "outputs": [],
   "source": [
    "print(\"There are {} observations and {} features in this train dataset. \\n\".format(dataset.shape[0],dataset.shape[1]))"
   ]
  },
  {
   "cell_type": "code",
   "execution_count": null,
   "metadata": {},
   "outputs": [],
   "source": [
    "print(\"There are {} observations and {} features in this test dataset. \\n\".format(dataset.shape[0],dataset_test.shape[1]))"
   ]
  },
  {
   "cell_type": "markdown",
   "metadata": {},
   "source": [
    "## Generate Profile Report"
   ]
  },
  {
   "cell_type": "code",
   "execution_count": null,
   "metadata": {},
   "outputs": [],
   "source": [
    "profile = ProfileReport(dataset, title=\"Profile Report\", explorative=True)"
   ]
  },
  {
   "cell_type": "code",
   "execution_count": null,
   "metadata": {},
   "outputs": [],
   "source": [
    "profile"
   ]
  },
  {
   "cell_type": "markdown",
   "metadata": {},
   "source": [
    "## Distribution of Channelgrouping of all sessions"
   ]
  },
  {
   "cell_type": "code",
   "execution_count": null,
   "metadata": {},
   "outputs": [],
   "source": [
    "fig, ax = plt.subplots(figsize=(15,8))\n",
    "ax = sns.histplot(data=dataset, x=\"channelGrouping\")"
   ]
  },
  {
   "cell_type": "markdown",
   "metadata": {},
   "source": [
    "## Distribution of Channelgrouping of the sessions with non-zero Revenue"
   ]
  },
  {
   "cell_type": "code",
   "execution_count": null,
   "metadata": {},
   "outputs": [],
   "source": [
    "df_nonz = dataset[dataset['totals.transactionRevenue']>0]"
   ]
  },
  {
   "cell_type": "code",
   "execution_count": null,
   "metadata": {},
   "outputs": [],
   "source": [
    "fig, ax = plt.subplots(figsize=(15,8))\n",
    "ax = sns.histplot(data=df_nonz, x=\"channelGrouping\")"
   ]
  },
  {
   "cell_type": "markdown",
   "metadata": {},
   "source": [
    "## Converting Timestamps to extra Day, Month, Year Columns"
   ]
  },
  {
   "cell_type": "code",
   "execution_count": null,
   "metadata": {},
   "outputs": [],
   "source": [
    "# Converting POSIX data from visiStartTime column and replace it in date column\n",
    "dataset['date'] = pd.to_datetime(dataset['visitStartTime'], unit='s').dt.strftime('%Y-%m-%d')\n",
    "dataset = dataset.drop('visitStartTime', axis=1)"
   ]
  },
  {
   "cell_type": "code",
   "execution_count": null,
   "metadata": {},
   "outputs": [],
   "source": [
    "dataset = dataset.assign(\n",
    "    Date = lambda x: pd.to_datetime(x['date']).dt.date,\n",
    "    Year = lambda x: pd.to_datetime(x['date']).dt.year,\n",
    "    Month = lambda x: pd.to_datetime(x['date']).dt.month,\n",
    "    Day = lambda x: pd.to_datetime(x['date']).dt.day\n",
    ")\n",
    "print(f'Start of year: {dataset.Year.min()}')\n",
    "print(f'Start of year: {dataset.Year.max()}')"
   ]
  },
  {
   "cell_type": "markdown",
   "metadata": {},
   "source": [
    "## Plotting Total Transactions Revenue vs Country"
   ]
  },
  {
   "cell_type": "code",
   "execution_count": null,
   "metadata": {},
   "outputs": [],
   "source": [
    "# Grouping Dataset by Country and sort values\n",
    "obj = dataset.groupby('geoNetwork.country')[\"totals.transactionRevenue\"].sum().sort_values(ascending =False).reset_index()"
   ]
  },
  {
   "cell_type": "code",
   "execution_count": null,
   "metadata": {},
   "outputs": [],
   "source": [
    "# Plotting Country vs Transaction Revenue\n",
    "fig, ax = plt.subplots(figsize=(15,8))\n",
    "ax = sns.barplot(data=obj, x=obj['geoNetwork.country'].head(10), y=obj['totals.transactionRevenue'].head(10))"
   ]
  },
  {
   "cell_type": "code",
   "execution_count": null,
   "metadata": {},
   "outputs": [],
   "source": [
    "# Calculating the percentage of Non Transactions Revenue Sessions in Canada\n",
    "canada_total = dataset[dataset['geoNetwork.country']== 'Canada']"
   ]
  },
  {
   "cell_type": "code",
   "execution_count": null,
   "metadata": {},
   "outputs": [],
   "source": [
    "ntr_canada = dataset[(dataset['geoNetwork.country'] == 'Canada') & (dataset['totals.transactionRevenue']!= 0)]"
   ]
  },
  {
   "cell_type": "code",
   "execution_count": null,
   "metadata": {},
   "outputs": [],
   "source": [
    "print('Percentage of Non-Zero Revenue Sessions in Canada: %.2f%%' % ((len(ntr_canada) / len(canada_total)) *100))"
   ]
  },
  {
   "cell_type": "markdown",
   "metadata": {},
   "source": [
    "## Plotting Total Transactions Revenue vs Browsers"
   ]
  },
  {
   "cell_type": "code",
   "execution_count": null,
   "metadata": {},
   "outputs": [],
   "source": [
    "# Grouping Dataset by Device Browsers and sort values\n",
    "obj = dataset.groupby('device.browser')[\"totals.transactionRevenue\"].sum().sort_values(ascending =False).reset_index()"
   ]
  },
  {
   "cell_type": "code",
   "execution_count": null,
   "metadata": {},
   "outputs": [],
   "source": [
    "# Plotting Device Browsers vs Transaction Revenue\n",
    "fig, ax = plt.subplots(figsize=(15,8))\n",
    "ax = sns.barplot(data=obj, x=obj['device.browser'].head(10), y=obj['totals.transactionRevenue'].head(10))"
   ]
  },
  {
   "cell_type": "markdown",
   "metadata": {},
   "source": [
    "## Plotting Total Transactions Revenue vs Visit Numbers"
   ]
  },
  {
   "cell_type": "code",
   "execution_count": null,
   "metadata": {},
   "outputs": [],
   "source": [
    "# Grouping Dataset by Number of Visits and sort values\n",
    "obj = dataset.groupby('visitNumber')[\"totals.transactionRevenue\"].mean().sort_values(ascending =False).reset_index()"
   ]
  },
  {
   "cell_type": "code",
   "execution_count": null,
   "metadata": {},
   "outputs": [],
   "source": [
    "# Plotting Number of Visits vs Transaction Revenue\n",
    "fig, ax = plt.subplots(figsize=(15,8))\n",
    "ax = sns.barplot(data=obj, x=obj['visitNumber'].head(20), y=obj['totals.transactionRevenue'].head(20))"
   ]
  },
  {
   "cell_type": "markdown",
   "metadata": {},
   "source": [
    "## Plotting Total Transactions Revenue vs Page Views"
   ]
  },
  {
   "cell_type": "code",
   "execution_count": null,
   "metadata": {},
   "outputs": [],
   "source": [
    "# Grouping Dataset by Total number of Page Views and sort values\n",
    "obj = dataset.groupby('totals.pageviews')[\"totals.transactionRevenue\"].mean().sort_values(ascending =False).reset_index()\n",
    "obj.head(20)"
   ]
  },
  {
   "cell_type": "code",
   "execution_count": null,
   "metadata": {},
   "outputs": [],
   "source": [
    "# Plotting Number of Total number of Page Views vs Transaction Revenue\n",
    "fig, ax = plt.subplots(figsize=(15,8))\n",
    "ax = sns.barplot(data=obj, x=obj['totals.pageviews'].head(20), y=obj['totals.transactionRevenue'].head(20))"
   ]
  },
  {
   "cell_type": "markdown",
   "metadata": {},
   "source": [
    "## Plotting Total Transactions Revenue vs Total Hits"
   ]
  },
  {
   "cell_type": "code",
   "execution_count": null,
   "metadata": {},
   "outputs": [],
   "source": [
    "# Grouping Dataset by Total Hits and sort values\n",
    "obj = dataset.groupby('totals.hits')[\"totals.transactionRevenue\"].mean().sort_values(ascending =False).reset_index()\n",
    "obj.head(20)"
   ]
  },
  {
   "cell_type": "code",
   "execution_count": null,
   "metadata": {},
   "outputs": [],
   "source": [
    "# Plotting Number of Total Hits vs Transaction Revenue\n",
    "fig, ax = plt.subplots(figsize=(15,8))\n",
    "ax = sns.barplot(data=obj, x=obj['totals.hits'].head(30), y=obj['totals.transactionRevenue'].head(30))"
   ]
  },
  {
   "cell_type": "markdown",
   "metadata": {},
   "source": [
    "## Plotting Total Transactions Revenue vs Months in 2017 and 2018"
   ]
  },
  {
   "cell_type": "code",
   "execution_count": null,
   "metadata": {},
   "outputs": [],
   "source": [
    "# Grouping Dataset by Months of 2017 and sort values\n",
    "obj = dataset[dataset['Year']==2017].groupby('Month')[\"totals.transactionRevenue\"].sum().sort_values(ascending=False).reset_index()\n",
    "obj"
   ]
  },
  {
   "cell_type": "code",
   "execution_count": null,
   "metadata": {},
   "outputs": [],
   "source": [
    "# Plotting Months of 2017 vs Transaction Revenue\n",
    "plt.figure(figsize=(16,6))\n",
    "plt.title('Title', fontdict={'fontsize': 15}), plt.xlabel('Month'), plt.ylabel('Revenue')\n",
    "sns.lineplot(obj['Month'], obj['totals.transactionRevenue'], label='')\n",
    "plt.legend(), plt.show()"
   ]
  },
  {
   "cell_type": "code",
   "execution_count": null,
   "metadata": {},
   "outputs": [],
   "source": [
    "# Grouping Dataset by Months of 2018 and sort values\n",
    "obj = dataset[dataset['Year']==2018].groupby('Month')[\"totals.transactionRevenue\"].sum().sort_values(ascending=False).reset_index()\n",
    "obj"
   ]
  },
  {
   "cell_type": "code",
   "execution_count": null,
   "metadata": {},
   "outputs": [],
   "source": [
    "# Plotting Months of 2018 vs Transaction Revenue\n",
    "plt.figure(figsize=(16,6))\n",
    "plt.title('Title', fontdict={'fontsize': 15}), plt.xlabel('Month'), plt.ylabel('Revenue')\n",
    "sns.lineplot(obj['Month'], obj['totals.transactionRevenue'], label='')\n",
    "plt.legend(), plt.show()"
   ]
  }
 ],
 "metadata": {
  "kernelspec": {
   "display_name": "Python 3.8.5 64-bit",
   "name": "python385jvsc74a57bd0402135d49870b961f74d796f924ad426c34ba2a9a18d44bdd08100ee6884e7b2"
  },
  "language_info": {
   "codemirror_mode": {
    "name": "ipython",
    "version": 3
   },
   "file_extension": ".py",
   "mimetype": "text/x-python",
   "name": "python",
   "nbconvert_exporter": "python",
   "pygments_lexer": "ipython3",
   "version": "3.8.5"
  }
 },
 "nbformat": 4,
 "nbformat_minor": 2
}
