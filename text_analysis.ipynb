{
 "cells": [
  {
   "cell_type": "markdown",
   "metadata": {},
   "source": [
    "# Text Analysis"
   ]
  },
  {
   "cell_type": "markdown",
   "metadata": {},
   "source": [
    "## Import Libraries"
   ]
  },
  {
   "cell_type": "code",
   "execution_count": null,
   "metadata": {},
   "outputs": [],
   "source": [
    "# Basic imports\n",
    "from datetime import datetime\n",
    "\n",
    "from collections import Counter\n",
    "\n",
    "# Text analysis importsimport numpy as np\n",
    "import pandas as pd\n",
    "from os import path\n",
    "from PIL import Image\n",
    "from scripts.text_analysis import wordcloud\n",
    "\n",
    "import matplotlib.pyplot as plt\n",
    "% matplotlib inline\n",
    "\n"
   ]
  },
  {
   "cell_type": "markdown",
   "metadata": {},
   "source": [
    "## Import Dataset"
   ]
  },
  {
   "cell_type": "code",
   "execution_count": null,
   "metadata": {},
   "outputs": [],
   "source": [
    "dataset = pd.read_csv('data/cleaned_train_v2.csv', index_col=[0])"
   ]
  },
  {
   "cell_type": "code",
   "execution_count": null,
   "metadata": {},
   "outputs": [],
   "source": [
    "dataset.head()"
   ]
  },
  {
   "cell_type": "markdown",
   "metadata": {},
   "source": [
    "# Text EDA"
   ]
  },
  {
   "cell_type": "markdown",
   "metadata": {},
   "source": [
    "## Preparation"
   ]
  },
  {
   "cell_type": "code",
   "execution_count": null,
   "metadata": {},
   "outputs": [],
   "source": [
    "# We are only interested in this columns:\n",
    "dataset = dataset[['channelGrouping', 'device.browser', 'device.operatingSystem', 'geoNetwork.country', 'trafficSource.keyword', 'trafficSource.medium', 'trafficSource.source']]\n",
    "dataset.head(100)"
   ]
  },
  {
   "cell_type": "code",
   "execution_count": null,
   "metadata": {},
   "outputs": [],
   "source": [
    "print(\"There are {} observations and {} features in this dataset. \\n\".format(dataset.shape[0],dataset.shape[1]))\n",
    "\n",
    "# Channel grouping\n",
    "print(\"There are {} types of channel grouping in this dataset such as {}... \\n\".format(len(dataset['channelGrouping'].unique()),\n",
    "                                                                           \", \".join(dataset['channelGrouping'].unique()[0:5])))\n",
    "\n",
    "# Browser\n",
    "print(\"There are {} types of browsers in this dataset such as {}... \\n\".format(len(dataset['device.browser'].unique()),\n",
    "                                                                           \", \".join(dataset['device.browser'].unique()[0:5])))\n",
    "\n",
    "# Operating system\n",
    "print(\"There are {} operating systems in this dataset such as {}... \\n\".format(len(Counter(dataset['device.operatingSystem']).keys()),\n",
    "                                                                                      \", \".join(dataset['device.operatingSystem'].unique()[0:5])))\n",
    "\n",
    "# Country\n",
    "print(\"There are {} countries in this dataset such as {}... \\n\".format(len(dataset['geoNetwork.country'].unique()),\n",
    "                                                                                      \", \".join(dataset['geoNetwork.country'].unique()[0:5])))\n",
    "\n",
    "# Keyword\n",
    "print(\"There are {} keywords in this dataset such as {}... \\n\".format(len(dataset['trafficSource.keyword'].unique()),\n",
    "                                                                                      \", \".join(dataset['trafficSource.keyword'].unique()[0:5])))\n",
    "\n",
    "# Medium\n",
    "print(\"There are {} medium in this dataset such as {}... \\n\".format(len(dataset['trafficSource.medium'].unique()),\n",
    "                                                                                      \", \".join(dataset['trafficSource.medium'].unique()[0:5])))\n",
    "\n",
    "# Source\n",
    "print(\"There are {} sources in this dataset such as {}... \\n\".format(len(dataset['trafficSource.source'].unique()),\n",
    "                                                                                      \", \".join(dataset['trafficSource.source'].unique()[0:5])))"
   ]
  },
  {
   "cell_type": "code",
   "execution_count": null,
   "metadata": {},
   "outputs": [],
   "source": [
    "dataset[[\"channelGrouping\", \"device.browser\",\"device.operatingSystem\", \"geoNetwork.country\", \"trafficSource.keyword\", \"trafficSource.medium\", \"trafficSource.source\"]].head(100)"
   ]
  },
  {
   "cell_type": "code",
   "execution_count": null,
   "metadata": {},
   "outputs": [],
   "source": [
    "# Groupby by country\n",
    "country = dataset.groupby(\"geoNetwork.country\")\n",
    "\n",
    "# Summary statistic of all countries\n",
    "country.describe().head()"
   ]
  },
  {
   "cell_type": "markdown",
   "metadata": {},
   "source": [
    "## Text Analysis"
   ]
  },
  {
   "cell_type": "markdown",
   "metadata": {},
   "source": [
    "### Whole dataset"
   ]
  },
  {
   "cell_type": "code",
   "execution_count": null,
   "metadata": {},
   "outputs": [],
   "source": [
    "text = \" \".join(i for i in dataset)\n",
    "print (\"There are {} words in the combination of all dataset columns.\".format(len(text)))"
   ]
  },
  {
   "cell_type": "code",
   "execution_count": null,
   "metadata": {},
   "outputs": [],
   "source": [
    "wordcloud(text)"
   ]
  },
  {
   "cell_type": "markdown",
   "metadata": {},
   "source": [
    "### channelGrouping"
   ]
  },
  {
   "cell_type": "code",
   "execution_count": null,
   "metadata": {},
   "outputs": [],
   "source": [
    "text = \" \".join(i for i in dataset['channelGrouping'].unique())\n",
    "print (\"There are {} unique words in the combination of all channelGrouping.\".format(len(text)))"
   ]
  },
  {
   "cell_type": "code",
   "execution_count": null,
   "metadata": {},
   "outputs": [],
   "source": [
    "wordcloud(text)"
   ]
  },
  {
   "cell_type": "markdown",
   "metadata": {},
   "source": [
    "### device.browser"
   ]
  },
  {
   "cell_type": "code",
   "execution_count": null,
   "metadata": {},
   "outputs": [],
   "source": [
    "text = \" \".join(i for i in dataset['device.browser'].unique())\n",
    "print (\"There are {} unique words in the combination of all device.browser.\".format(len(text)))"
   ]
  },
  {
   "cell_type": "code",
   "execution_count": null,
   "metadata": {},
   "outputs": [],
   "source": [
    "wordcloud(text)"
   ]
  },
  {
   "cell_type": "markdown",
   "metadata": {},
   "source": [
    "### device.operatingSystem"
   ]
  },
  {
   "cell_type": "code",
   "execution_count": null,
   "metadata": {},
   "outputs": [],
   "source": [
    "text = \" \".join(i for i in dataset['device.operatingSystem'].unique())\n",
    "print (\"There are {} unique words in the combination of all device.operatingSystem.\".format(len(text)))"
   ]
  },
  {
   "cell_type": "code",
   "execution_count": null,
   "metadata": {},
   "outputs": [],
   "source": [
    "wordcloud(text)"
   ]
  },
  {
   "cell_type": "markdown",
   "metadata": {},
   "source": [
    "### geoNetwork.country"
   ]
  },
  {
   "cell_type": "code",
   "execution_count": null,
   "metadata": {},
   "outputs": [],
   "source": [
    "text = \" \".join(i for i in dataset['geoNetwork.country'].unique())\n",
    "print (\"There are {} unique words in the combination of all geoNetwork.country.\".format(len(text)))"
   ]
  },
  {
   "cell_type": "code",
   "execution_count": null,
   "metadata": {},
   "outputs": [],
   "source": [
    "wordcloud(text)"
   ]
  },
  {
   "cell_type": "markdown",
   "metadata": {},
   "source": [
    "### trafficSource.keyword"
   ]
  },
  {
   "cell_type": "code",
   "execution_count": null,
   "metadata": {},
   "outputs": [],
   "source": [
    "text = \" \".join(i for i in dataset['trafficSource.keyword'].unique())\n",
    "print (\"There are {} unique words in the combination of all trafficSource.keyword.\".format(len(text)))"
   ]
  },
  {
   "cell_type": "code",
   "execution_count": null,
   "metadata": {},
   "outputs": [],
   "source": [
    "wordcloud(text)"
   ]
  },
  {
   "cell_type": "markdown",
   "metadata": {},
   "source": [
    "### trafficSource.medium"
   ]
  },
  {
   "cell_type": "code",
   "execution_count": null,
   "metadata": {},
   "outputs": [],
   "source": [
    "text = \" \".join(i for i in dataset['trafficSource.medium'].unique())\n",
    "print (\"There are {} unique words in the combination of all trafficSource.medium.\".format(len(text)))"
   ]
  },
  {
   "cell_type": "code",
   "execution_count": null,
   "metadata": {},
   "outputs": [],
   "source": [
    "wordcloud(text)"
   ]
  },
  {
   "cell_type": "markdown",
   "metadata": {},
   "source": [
    "### trafficSource.source"
   ]
  },
  {
   "cell_type": "code",
   "execution_count": null,
   "metadata": {},
   "outputs": [],
   "source": [
    "text = \" \".join(i for i in dataset['trafficSource.source'].unique())\n",
    "print (\"There are {} unique words in the combination of all trafficSource.source.\".format(len(text)))"
   ]
  },
  {
   "cell_type": "code",
   "execution_count": null,
   "metadata": {},
   "outputs": [],
   "source": [
    "wordcloud(text)"
   ]
  }
 ],
 "metadata": {
  "kernelspec": {
   "display_name": "Python 3.8.5 64-bit",
   "name": "python385jvsc74a57bd0402135d49870b961f74d796f924ad426c34ba2a9a18d44bdd08100ee6884e7b2"
  },
  "language_info": {
   "codemirror_mode": {
    "name": "ipython",
    "version": 3
   },
   "file_extension": ".py",
   "mimetype": "text/x-python",
   "name": "python",
   "nbconvert_exporter": "python",
   "pygments_lexer": "ipython3",
   "version": "3.8.5"
  },
  "metadata": {
   "interpreter": {
    "hash": "62d6b0da98c397553ef069e454fb927e104d0fa913da885e2ee1404a6fd643a4"
   }
  }
 },
 "nbformat": 4,
 "nbformat_minor": 2
}
