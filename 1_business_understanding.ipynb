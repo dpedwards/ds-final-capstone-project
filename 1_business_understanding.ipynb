{
 "cells": [
  {
   "cell_type": "markdown",
   "metadata": {},
   "source": [
    "# FinTechs Capstone Project: Google Analytics Customer Revenue Prediction\n",
    "## _Predict how much GStore customers will spend_"
   ]
  },
  {
   "cell_type": "markdown",
   "metadata": {},
   "source": [
    "Davain Pablo Edwards, Hassan Salam, Jonathan Preiss & Sina Lotfiomran"
   ]
  },
  {
   "cell_type": "markdown",
   "metadata": {},
   "source": [
    "![image](https://user-images.githubusercontent.com/78318440/115690841-bd691a80-a35d-11eb-83fe-b681b55f67bc.png)"
   ]
  },
  {
   "cell_type": "markdown",
   "metadata": {},
   "source": [
    "## Business Understanding"
   ]
  },
  {
   "cell_type": "markdown",
   "metadata": {},
   "source": [
    "Customer targeting is one of the most successful techniques to induce recurring revenue. The developed machine learning methods predict customer spending and allow for a more concise use of marketing budgets, resulting in higher revenue and profitability for companies."
   ]
  },
  {
   "cell_type": "markdown",
   "metadata": {},
   "source": [
    "For this project we are using....\n",
    "\n",
    "First, it is important to find out what information is contained in the dataset. \n",
    "Even though we will only see the real information later, the explanations of the individual variables are listed here. \n",
    "\n",
    "\n",
    "|**Column Names**        |  **Description** |\n",
    "|---                     |---:              |\n",
    "| fullVisitorId          | A unique identifier for each user of the Google Merchandise Store.                 |\n",
    "| channelGrouping    | The channel via which the user came to the Store.                 | \n",
    "| date | The date on which the user visited the Store. |\n",
    "| device | The specifications for the device used to access the Store. |\n",
    "| geoNetwork | This section contains information about the geography of the user. |\n",
    "| socialEngagementType | Engagement type, either \"Socially Engaged\" or \"Not Socially Engaged\". |\n",
    "| totals | This section contains aggregate values across the session. |\n",
    "| trafficSource | This section contains information about the Traffic Source from which the session originated. |\n",
    "| visitId | An identifier for this session. This is part of the value usually stored as the _utmb cookie. This is only unique to the user. For a completely unique ID, you should use a combination of fullVisitorId and visitId. |\n",
    "| visitNumber | The session number for this user. If this is the first session, then this is set to 1. |\n",
    "| visitStartTime | The timestamp expressedasPOSIXtime. |\n",
    "| hits | This row and nested fields are populated for any and all types of hits. Provides a record of all page visits. |\n",
    "| customDimensions | This section contains any user-level or session-level custom dimensions that are set for a session. This is a repeated field and has an entry for each dimension that is set. |\n",
    "| totals | This set of columns mostly includes high-level aggregate data. |\n",
    "\n"
   ]
  },
  {
   "cell_type": "markdown",
   "metadata": {},
   "source": [
    "## Hypotheses:\n",
    "1. Users who come from \"Origanic search\" are doing more transactions.\n",
    "2. Most of the users are mobile users.\n",
    "3. Users made less transactions in February.\n",
    "4. Shortly before Christmas and Easte, Total Revenue Transactions increases.\n",
    "5. Sessions with high number of \"Hits\" tend to make more Revenue.\n",
    "6. Sessions through Operating System MacOS tend to have more Revenue."
   ]
  },
  {
   "cell_type": "markdown",
   "metadata": {},
   "source": [
    "## Objective:\n",
    "- The goal is to predict the Users total Revenue for the period of May 1st 2018 to October 15th 2018."
   ]
  },
  {
   "cell_type": "markdown",
   "metadata": {},
   "source": [
    "## Dataset:\n",
    "- The Sessions Informations of the period from August 1st 2016 to April 30th 2018 is given."
   ]
  },
  {
   "cell_type": "markdown",
   "metadata": {},
   "source": [
    "## How to do:\n",
    "- First we train our data based on the sessions features then we predict the revenue per session, after that we aggregate revenue of sessions per Customer."
   ]
  }
 ],
 "metadata": {
  "kernelspec": {
   "display_name": "Python 3.8.5 64-bit ('.venv')",
   "name": "python385jvsc74a57bd09aba9dd27a94ca0ac63174a184b5b4ccc7cd66ca2e1265bbcab7e447cda0e00a"
  },
  "language_info": {
   "codemirror_mode": {
    "name": "ipython",
    "version": 3
   },
   "file_extension": ".py",
   "mimetype": "text/x-python",
   "name": "python",
   "nbconvert_exporter": "python",
   "pygments_lexer": "ipython3",
   "version": "3.8.5-final"
  }
 },
 "nbformat": 4,
 "nbformat_minor": 4
}
