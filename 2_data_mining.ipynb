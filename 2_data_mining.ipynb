{
 "cells": [
  {
   "cell_type": "markdown",
   "metadata": {},
   "source": [
    "# Data Mining"
   ]
  },
  {
   "cell_type": "markdown",
   "metadata": {},
   "source": [
    "## Import Libraries"
   ]
  },
  {
   "cell_type": "code",
   "execution_count": null,
   "metadata": {},
   "outputs": [],
   "source": [
    "from datetime import datetime\n",
    "import pandas as pd\n",
    "import glob\n",
    "import numpy as np\n",
    "from scripts.helper import reduce_mem_usage, load_df"
   ]
  },
  {
   "cell_type": "markdown",
   "metadata": {},
   "source": [
    "## Import Datasets"
   ]
  },
  {
   "cell_type": "code",
   "execution_count": null,
   "metadata": {},
   "outputs": [],
   "source": [
    "# Set path to train and test datasets\n",
    "path = 'data/train_v2.csv'\n",
    "path1 = 'data/test_v2.csv'\n",
    "\n",
    "# Define JSON columns to extract\n",
    "json_columns = ['device', 'geoNetwork', 'totals', 'trafficSource']\n",
    "\n",
    "# Define features to extract\n",
    "features = ['channelGrouping', 'date', 'fullVisitorId', 'visitId',\\\n",
    "       'visitNumber', 'visitStartTime', 'device.browser',\\\n",
    "       'device.deviceCategory', 'device.isMobile', 'device.operatingSystem',\\\n",
    "       'geoNetwork.city', 'geoNetwork.continent', 'geoNetwork.country',\\\n",
    "       'geoNetwork.metro', 'geoNetwork.networkDomain', 'geoNetwork.region',\\\n",
    "       'geoNetwork.subContinent', 'totals.bounces', 'totals.hits',\\\n",
    "       'totals.newVisits', 'totals.pageviews', 'totals.transactionRevenue',\\\n",
    "       'trafficSource.adContent', 'trafficSource.campaign',\\\n",
    "       'trafficSource.isTrueDirect', 'trafficSource.keyword',\\\n",
    "       'trafficSource.medium', 'trafficSource.referralPath',\\\n",
    "       'trafficSource.source']"
   ]
  },
  {
   "cell_type": "code",
   "execution_count": null,
   "metadata": {},
   "outputs": [],
   "source": [
    "start_time = datetime.now() # Set start point for time analysis\n",
    "\n",
    "# Extract the features from the JSON columns\n",
    "dataset = load_df(path, json_columns, features)\n",
    "dataset_test = load_df(path1, json_columns, features)\n",
    "\n",
    "end_time = datetime.now() # Set end point for time analysis\n",
    "print('Duration: {}'.format(end_time - start_time)) # Print out anlysed time"
   ]
  },
  {
   "cell_type": "markdown",
   "metadata": {},
   "source": [
    "## Shrink data"
   ]
  },
  {
   "cell_type": "code",
   "execution_count": null,
   "metadata": {},
   "outputs": [],
   "source": [
    "# Reduce dataset size by change the datatypes\n",
    "dataset, NAlist = reduce_mem_usage(dataset)\n",
    "dataset_test, NAlist = reduce_mem_usage(dataset_test)"
   ]
  },
  {
   "cell_type": "code",
   "execution_count": null,
   "metadata": {},
   "outputs": [],
   "source": [
    "# Show head for train dataset\n",
    "dataset.head()"
   ]
  },
  {
   "cell_type": "code",
   "execution_count": null,
   "metadata": {},
   "outputs": [],
   "source": [
    "# Show head for test dataset\n",
    "dataset_test.head()"
   ]
  },
  {
   "cell_type": "markdown",
   "metadata": {},
   "source": [
    "## Export Datasets"
   ]
  },
  {
   "cell_type": "code",
   "execution_count": null,
   "metadata": {},
   "outputs": [],
   "source": [
    "# Save shrunk train data to a new .csv file\n",
    "path = 'data/shrunk_train_v2.csv'\n",
    "dataset.to_csv(path)"
   ]
  },
  {
   "cell_type": "code",
   "execution_count": null,
   "metadata": {},
   "outputs": [],
   "source": [
    "# Save shrunk test data to a new .csv file\n",
    "path1 = 'data/shrunk_test_v2.csv'\n",
    "dataset_test.to_csv(path1)"
   ]
  }
 ],
 "metadata": {
  "kernelspec": {
   "display_name": "Python 3.8.5 64-bit",
   "name": "python385jvsc74a57bd0402135d49870b961f74d796f924ad426c34ba2a9a18d44bdd08100ee6884e7b2"
  },
  "language_info": {
   "codemirror_mode": {
    "name": "ipython",
    "version": 3
   },
   "file_extension": ".py",
   "mimetype": "text/x-python",
   "name": "python",
   "nbconvert_exporter": "python",
   "pygments_lexer": "ipython3",
   "version": "3.8.5"
  }
 },
 "nbformat": 4,
 "nbformat_minor": 4
}
